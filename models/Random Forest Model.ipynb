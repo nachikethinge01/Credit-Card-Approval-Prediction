{
 "cells": [
  {
   "cell_type": "markdown",
   "id": "8ecb97e9",
   "metadata": {},
   "source": [
    "We are using Random Forest model due the large dataset we have. A decision tree would not make sense here with the given amount of data. Another reason to use Random Forest model that the trees will be created independently instead of one at a time, which would be the case for Gradient Boosting model. So, given the number of rows and columns of this dataset, we choose Random Forest model as the best model in this case"
   ]
  },
  {
   "cell_type": "code",
   "execution_count": null,
   "id": "63d05aae",
   "metadata": {},
   "outputs": [],
   "source": []
  }
 ],
 "metadata": {
  "kernelspec": {
   "display_name": "Python 3 (ipykernel)",
   "language": "python",
   "name": "python3"
  },
  "language_info": {
   "codemirror_mode": {
    "name": "ipython",
    "version": 3
   },
   "file_extension": ".py",
   "mimetype": "text/x-python",
   "name": "python",
   "nbconvert_exporter": "python",
   "pygments_lexer": "ipython3",
   "version": "3.9.0"
  }
 },
 "nbformat": 4,
 "nbformat_minor": 5
}
